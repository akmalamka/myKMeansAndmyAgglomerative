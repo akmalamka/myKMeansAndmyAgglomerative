{
 "nbformat": 4,
 "nbformat_minor": 2,
 "metadata": {
  "language_info": {
   "name": "python",
   "codemirror_mode": {
    "name": "ipython",
    "version": 3
   },
   "version": "3.8.0-final"
  },
  "orig_nbformat": 2,
  "file_extension": ".py",
  "mimetype": "text/x-python",
  "name": "python",
  "npconvert_exporter": "python",
  "pygments_lexer": "ipython3",
  "version": 3,
  "kernelspec": {
   "name": "python38064bit514a1ad9f7344b2fa63facf4a11ab22c",
   "display_name": "Python 3.8.0 64-bit"
  }
 },
 "cells": [
  {
   "cell_type": "code",
   "execution_count": 1,
   "metadata": {},
   "outputs": [],
   "source": [
    "import numpy as np\n",
    "import pandas as pd\n",
    "import itertools\n",
    "import copy"
   ]
  },
  {
   "cell_type": "code",
   "execution_count": 2,
   "metadata": {},
   "outputs": [],
   "source": [
    "iris = pd.read_csv('data/iris.csv').iloc[:, 1:]"
   ]
  },
  {
   "cell_type": "code",
   "execution_count": 3,
   "metadata": {},
   "outputs": [
    {
     "output_type": "execute_result",
     "data": {
      "text/plain": "     SepalLengthCm  SepalWidthCm  PetalLengthCm  PetalWidthCm         Species\n0              5.1           3.5            1.4           0.2     Iris-setosa\n1              4.9           3.0            1.4           0.2     Iris-setosa\n2              4.7           3.2            1.3           0.2     Iris-setosa\n3              4.6           3.1            1.5           0.2     Iris-setosa\n4              5.0           3.6            1.4           0.2     Iris-setosa\n..             ...           ...            ...           ...             ...\n145            6.7           3.0            5.2           2.3  Iris-virginica\n146            6.3           2.5            5.0           1.9  Iris-virginica\n147            6.5           3.0            5.2           2.0  Iris-virginica\n148            6.2           3.4            5.4           2.3  Iris-virginica\n149            5.9           3.0            5.1           1.8  Iris-virginica\n\n[150 rows x 5 columns]",
      "text/html": "<div>\n<style scoped>\n    .dataframe tbody tr th:only-of-type {\n        vertical-align: middle;\n    }\n\n    .dataframe tbody tr th {\n        vertical-align: top;\n    }\n\n    .dataframe thead th {\n        text-align: right;\n    }\n</style>\n<table border=\"1\" class=\"dataframe\">\n  <thead>\n    <tr style=\"text-align: right;\">\n      <th></th>\n      <th>SepalLengthCm</th>\n      <th>SepalWidthCm</th>\n      <th>PetalLengthCm</th>\n      <th>PetalWidthCm</th>\n      <th>Species</th>\n    </tr>\n  </thead>\n  <tbody>\n    <tr>\n      <th>0</th>\n      <td>5.1</td>\n      <td>3.5</td>\n      <td>1.4</td>\n      <td>0.2</td>\n      <td>Iris-setosa</td>\n    </tr>\n    <tr>\n      <th>1</th>\n      <td>4.9</td>\n      <td>3.0</td>\n      <td>1.4</td>\n      <td>0.2</td>\n      <td>Iris-setosa</td>\n    </tr>\n    <tr>\n      <th>2</th>\n      <td>4.7</td>\n      <td>3.2</td>\n      <td>1.3</td>\n      <td>0.2</td>\n      <td>Iris-setosa</td>\n    </tr>\n    <tr>\n      <th>3</th>\n      <td>4.6</td>\n      <td>3.1</td>\n      <td>1.5</td>\n      <td>0.2</td>\n      <td>Iris-setosa</td>\n    </tr>\n    <tr>\n      <th>4</th>\n      <td>5.0</td>\n      <td>3.6</td>\n      <td>1.4</td>\n      <td>0.2</td>\n      <td>Iris-setosa</td>\n    </tr>\n    <tr>\n      <th>...</th>\n      <td>...</td>\n      <td>...</td>\n      <td>...</td>\n      <td>...</td>\n      <td>...</td>\n    </tr>\n    <tr>\n      <th>145</th>\n      <td>6.7</td>\n      <td>3.0</td>\n      <td>5.2</td>\n      <td>2.3</td>\n      <td>Iris-virginica</td>\n    </tr>\n    <tr>\n      <th>146</th>\n      <td>6.3</td>\n      <td>2.5</td>\n      <td>5.0</td>\n      <td>1.9</td>\n      <td>Iris-virginica</td>\n    </tr>\n    <tr>\n      <th>147</th>\n      <td>6.5</td>\n      <td>3.0</td>\n      <td>5.2</td>\n      <td>2.0</td>\n      <td>Iris-virginica</td>\n    </tr>\n    <tr>\n      <th>148</th>\n      <td>6.2</td>\n      <td>3.4</td>\n      <td>5.4</td>\n      <td>2.3</td>\n      <td>Iris-virginica</td>\n    </tr>\n    <tr>\n      <th>149</th>\n      <td>5.9</td>\n      <td>3.0</td>\n      <td>5.1</td>\n      <td>1.8</td>\n      <td>Iris-virginica</td>\n    </tr>\n  </tbody>\n</table>\n<p>150 rows × 5 columns</p>\n</div>"
     },
     "metadata": {},
     "execution_count": 3
    }
   ],
   "source": [
    "iris"
   ]
  },
  {
   "cell_type": "code",
   "execution_count": 26,
   "metadata": {},
   "outputs": [],
   "source": [
    "class Aglomerative:\n",
    "    # A, B = satu cluster\n",
    "    def single(self, A, B):\n",
    "        i = 0\n",
    "        for a, b in itertools.product(A, B):\n",
    "            if (i == 0):\n",
    "                temp = self.dist(a, b)\n",
    "            else:\n",
    "                temp = min(self.dist(a, b), temp)\n",
    "            i += 1\n",
    "\n",
    "        return temp\n",
    "\n",
    "    def complete(self, A, B):\n",
    "        i = 0\n",
    "        for a, b in itertools.product(A, B):\n",
    "            if (i == 0):\n",
    "                temp = self.dist(a, b)\n",
    "            else:\n",
    "                temp = max(self.dist(a, b), temp)\n",
    "            i += 1\n",
    "\n",
    "        return temp\n",
    "\n",
    "    def average(self, A, B):\n",
    "        i = 0\n",
    "        temp_sum = 0\n",
    "        for a, b in itertools.product(A, B):\n",
    "            temp_sum += self.dist(a, b)\n",
    "            i += 1\n",
    "\n",
    "        return temp_sum/i\n",
    "\n",
    "    def average_group(self, A, B):\n",
    "        i = 0\n",
    "        for index in A:\n",
    "            if i == 0:\n",
    "                cluster_A = [Model.data[index]]\n",
    "            else:\n",
    "                cluster_A.append(Model.data[index])\n",
    "            i += 1\n",
    "        cluster_A = np.array(cluster_A)\n",
    "        mean_A = np.mean(cluster_A, axis=0)\n",
    "\n",
    "        i = 0\n",
    "        for index in B:\n",
    "            if i == 0:\n",
    "                cluster_B = [Model.data[index]]\n",
    "            else:\n",
    "                cluster_B.append(Model.data[index])\n",
    "            i += 1\n",
    "        cluster_B = np.array(cluster_B)\n",
    "        mean_B = np.mean(cluster_B, axis=0)\n",
    "\n",
    "        temp = 0\n",
    "        for x, y in zip(mean_A, mean_B):\n",
    "            temp += abs(x - y)\n",
    "\n",
    "        return temp\n",
    "\n",
    "    # a, b = satu data dalam sebuah cluster\n",
    "    def dist(self, a, b):\n",
    "        temp = 0\n",
    "        for x, y in zip(self.data[a], self.data[b]):\n",
    "            temp += abs(x - y)\n",
    "\n",
    "        return temp\n",
    "\n",
    "    # distance_function = [single, complete, average, average_group]\n",
    "    def __init__(self, data, distance_function_name):\n",
    "        self.data = data.to_numpy()\n",
    "        self.cluster = []\n",
    "        self.cluster_history = []\n",
    "        \n",
    "        for i in range(len(self.data)):\n",
    "            self.cluster.append([i])\n",
    "\n",
    "        self.distance = self.__getattribute__(distance_function_name)\n",
    "        self.train()\n",
    "\n",
    "    def train(self):\n",
    "        while (len(self.cluster) != 1):            \n",
    "            sum_of_distance = 0\n",
    "            for i in range(len(self.cluster)):\n",
    "                for j in range(i + 1, len(self.cluster)):                        \n",
    "                    temp = self.distance(self.cluster[i], self.cluster[j])\n",
    "                    if (i == 0 and j == 1):\n",
    "                        min_distance = temp\n",
    "                        min_index = [i, j]\n",
    "                    else:\n",
    "                        if (temp < min_distance):\n",
    "                            min_distance = temp\n",
    "                            min_index = [i, j]\n",
    "                        \n",
    "                    sum_of_distance += temp\n",
    "\n",
    "            self.cluster_history.append((sum_of_distance, copy.deepcopy(self.cluster)))\n",
    "\n",
    "            # Gabungin 2 cluster dengan jarak minimum\n",
    "            a = self.cluster[min_index[0]]\n",
    "            b = self.cluster[min_index[1]]\n",
    "            self.cluster.append(a + b)\n",
    "            self.cluster.remove(a)\n",
    "            self.cluster.remove(b)\n",
    "        self.cluster_history.append((0, copy.deepcopy(self.cluster)))\n",
    "\n",
    "    def get_result_by_treshold(self, treshold):\n",
    "        for distance_sum, cluster in self.cluster_history:\n",
    "            if (distance_sum < treshold):\n",
    "                return cluster\n",
    "\n",
    "    def get_result_by_number_of_cluster(self, number_of_cluster):\n",
    "        for distance_sum, cluster in self.cluster_history:\n",
    "            if (len(cluster) <= number_of_cluster):\n",
    "                return cluster\n",
    "\n",
    "    def get_group_by_number_cluster(self, number_of_cluster):\n",
    "        result = self.get_result_by_number_of_cluster(number_of_cluster)\n",
    "        cluster_of = []\n",
    "        for i in range(len(self.data)):\n",
    "            found = False\n",
    "            for index, cluster in enumerate(result, start=0):\n",
    "                if (i in cluster) and (not found):\n",
    "                    cluster_of.append(index)\n",
    "                    found = True\n",
    "            if found:\n",
    "                found = False\n",
    "            else:\n",
    "                cluster_of.append(None)\n",
    "        \n",
    "        return cluster_of\n",
    "        \n",
    "\n",
    "        "
   ]
  },
  {
   "cell_type": "code",
   "execution_count": 27,
   "metadata": {
    "tags": [
     "outputPrepend",
     "outputPrepend",
     "outputPrepend",
     "outputPrepend",
     "outputPrepend",
     "outputPrepend",
     "outputPrepend",
     "outputPrepend",
     "outputPrepend",
     "outputPrepend",
     "outputPrepend",
     "outputPrepend",
     "outputPrepend",
     "outputPrepend",
     "outputPrepend",
     "outputPrepend",
     "outputPrepend",
     "outputPrepend",
     "outputPrepend",
     "outputPrepend",
     "outputPrepend",
     "outputPrepend",
     "outputPrepend",
     "outputPrepend",
     "outputPrepend",
     "outputPrepend",
     "outputPrepend",
     "outputPrepend",
     "outputPrepend",
     "outputPrepend",
     "outputPrepend",
     "outputPrepend",
     "outputPrepend",
     "outputPrepend",
     "outputPrepend",
     "outputPrepend"
    ]
   },
   "outputs": [],
   "source": [
    "Model = Aglomerative(iris.iloc[:, :4], \"average\")"
   ]
  },
  {
   "cell_type": "code",
   "execution_count": 28,
   "metadata": {},
   "outputs": [
    {
     "output_type": "execute_result",
     "data": {
      "text/plain": "[0,\n 0,\n 0,\n 0,\n 0,\n 0,\n 0,\n 0,\n 0,\n 0,\n 0,\n 0,\n 0,\n 0,\n 0,\n 0,\n 0,\n 0,\n 0,\n 0,\n 0,\n 0,\n 0,\n 0,\n 0,\n 0,\n 0,\n 0,\n 0,\n 0,\n 0,\n 0,\n 0,\n 0,\n 0,\n 0,\n 0,\n 0,\n 0,\n 0,\n 0,\n 0,\n 0,\n 0,\n 0,\n 0,\n 0,\n 0,\n 0,\n 0,\n 2,\n 2,\n 2,\n 2,\n 2,\n 2,\n 2,\n 2,\n 2,\n 2,\n 2,\n 2,\n 2,\n 2,\n 2,\n 2,\n 2,\n 2,\n 2,\n 2,\n 2,\n 2,\n 2,\n 2,\n 2,\n 2,\n 2,\n 1,\n 2,\n 2,\n 2,\n 2,\n 2,\n 2,\n 2,\n 2,\n 2,\n 2,\n 2,\n 2,\n 2,\n 2,\n 2,\n 2,\n 2,\n 2,\n 2,\n 2,\n 2,\n 2,\n 1,\n 2,\n 1,\n 1,\n 1,\n 1,\n 2,\n 1,\n 1,\n 1,\n 1,\n 1,\n 1,\n 2,\n 2,\n 1,\n 1,\n 1,\n 1,\n 2,\n 1,\n 2,\n 1,\n 2,\n 1,\n 1,\n 2,\n 2,\n 1,\n 1,\n 1,\n 1,\n 1,\n 2,\n 1,\n 1,\n 1,\n 1,\n 2,\n 1,\n 1,\n 1,\n 2,\n 1,\n 1,\n 1,\n 2,\n 1,\n 1,\n 2]"
     },
     "metadata": {},
     "execution_count": 28
    }
   ],
   "source": [
    "Model.get_group_by_number_cluster(3)"
   ]
  },
  {
   "cell_type": "code",
   "execution_count": 6,
   "metadata": {},
   "outputs": [
    {
     "output_type": "execute_result",
     "data": {
      "text/plain": "[[41,\n  15,\n  14,\n  32,\n  33,\n  23,\n  26,\n  43,\n  36,\n  20,\n  31,\n  10,\n  48,\n  46,\n  19,\n  21,\n  35,\n  4,\n  40,\n  0,\n  17,\n  27,\n  28,\n  49,\n  7,\n  39,\n  44,\n  18,\n  5,\n  16,\n  22,\n  25,\n  37,\n  9,\n  34,\n  1,\n  12,\n  45,\n  24,\n  11,\n  29,\n  30,\n  6,\n  3,\n  47,\n  2,\n  42,\n  13,\n  8,\n  38],\n [77,\n  110,\n  147,\n  104,\n  128,\n  132,\n  111,\n  103,\n  116,\n  137,\n  120,\n  143,\n  140,\n  124,\n  144,\n  112,\n  139,\n  141,\n  145,\n  100,\n  115,\n  136,\n  148,\n  108,\n  134,\n  117,\n  131,\n  135,\n  118,\n  105,\n  122,\n  109,\n  107,\n  130,\n  102,\n  125,\n  129],\n [98,\n  60,\n  57,\n  93,\n  114,\n  121,\n  113,\n  101,\n  142,\n  70,\n  149,\n  127,\n  138,\n  146,\n  123,\n  126,\n  83,\n  72,\n  133,\n  65,\n  75,\n  54,\n  58,\n  76,\n  50,\n  52,\n  86,\n  85,\n  51,\n  56,\n  73,\n  78,\n  63,\n  91,\n  71,\n  74,\n  97,\n  106,\n  64,\n  79,\n  59,\n  53,\n  89,\n  69,\n  80,\n  81,\n  66,\n  84,\n  90,\n  67,\n  82,\n  92,\n  61,\n  55,\n  94,\n  95,\n  96,\n  88,\n  99,\n  62,\n  119,\n  68,\n  87]]"
     },
     "metadata": {},
     "execution_count": 6
    }
   ],
   "source": [
    "Model.get_result_by_number_of_cluster(3)"
   ]
  },
  {
   "cell_type": "code",
   "execution_count": 10,
   "metadata": {},
   "outputs": [
    {
     "output_type": "execute_result",
     "data": {
      "text/plain": "[[41,\n  15,\n  14,\n  32,\n  33,\n  23,\n  26,\n  43,\n  36,\n  20,\n  31,\n  10,\n  48,\n  46,\n  19,\n  21,\n  35,\n  4,\n  40,\n  0,\n  17,\n  27,\n  28,\n  49,\n  7,\n  39,\n  44,\n  18,\n  5,\n  16,\n  22,\n  25,\n  37,\n  9,\n  34,\n  1,\n  12,\n  45,\n  24,\n  11,\n  29,\n  30,\n  6,\n  3,\n  47,\n  2,\n  42,\n  13,\n  8,\n  38],\n [77,\n  110,\n  147,\n  104,\n  128,\n  132,\n  111,\n  103,\n  116,\n  137,\n  120,\n  143,\n  140,\n  124,\n  144,\n  112,\n  139,\n  141,\n  145,\n  100,\n  115,\n  136,\n  148,\n  108,\n  134,\n  117,\n  131,\n  135,\n  118,\n  105,\n  122,\n  109,\n  107,\n  130,\n  102,\n  125,\n  129],\n [98,\n  60,\n  57,\n  93,\n  114,\n  121,\n  113,\n  101,\n  142,\n  70,\n  149,\n  127,\n  138,\n  146,\n  123,\n  126,\n  83,\n  72,\n  133,\n  65,\n  75,\n  54,\n  58,\n  76,\n  50,\n  52,\n  86,\n  85,\n  51,\n  56,\n  73,\n  78,\n  63,\n  91,\n  71,\n  74,\n  97,\n  106,\n  64,\n  79,\n  59,\n  53,\n  89,\n  69,\n  80,\n  81,\n  66,\n  84,\n  90,\n  67,\n  82,\n  92,\n  61,\n  55,\n  94,\n  95,\n  96,\n  88,\n  99,\n  62,\n  119,\n  68,\n  87]]"
     },
     "metadata": {},
     "execution_count": 10
    }
   ],
   "source": [
    "Model.get_result_by_treshold(20)"
   ]
  },
  {
   "cell_type": "code",
   "execution_count": 13,
   "metadata": {},
   "outputs": [],
   "source": [
    "Arr = [2, 44, 12, 12, 85, 23]"
   ]
  },
  {
   "cell_type": "code",
   "execution_count": null,
   "metadata": {},
   "outputs": [],
   "source": []
  }
 ]
}